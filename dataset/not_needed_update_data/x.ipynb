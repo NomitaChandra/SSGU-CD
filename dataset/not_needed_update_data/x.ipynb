{
 "cells": [
  {
   "cell_type": "code",
   "execution_count": null,
   "metadata": {},
   "outputs": [],
   "source": [
    "import difflib\n",
    "\n",
    "# Define file paths\n",
    "file1 = 'test_nolabel_og.data'\n",
    "file2 = 'test.data'\n",
    "output_file = 'difference_output.txt'\n",
    "\n",
    "# Read files\n",
    "with open(file1, 'r') as f1, open(file2, 'r') as f2:\n",
    "    file1_lines = f1.readlines()\n",
    "    file2_lines = f2.readlines()\n",
    "\n",
    "# Find the differences\n",
    "diff = difflib.unified_diff(\n",
    "    file1_lines, file2_lines, \n",
    "    fromfile=file1, \n",
    "    tofile=file2, \n",
    "    lineterm=''\n",
    ")\n",
    "\n",
    "# Write the differences to output file\n",
    "with open(output_file, 'w') as out_f:\n",
    "    for line in diff:\n",
    "        out_f.write(line + '\\n')\n",
    "\n",
    "print(f\"Differences have been saved to {output_file}\")\n"
   ]
  }
 ],
 "metadata": {
  "language_info": {
   "name": "python"
  }
 },
 "nbformat": 4,
 "nbformat_minor": 2
}
